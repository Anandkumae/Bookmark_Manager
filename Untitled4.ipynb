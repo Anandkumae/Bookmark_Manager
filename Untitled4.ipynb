{
  "nbformat": 4,
  "nbformat_minor": 0,
  "metadata": {
    "colab": {
      "provenance": [],
      "authorship_tag": "ABX9TyMyvJWkPPWDmxuXQN9XL/K8",
      "include_colab_link": true
    },
    "kernelspec": {
      "name": "python3",
      "display_name": "Python 3"
    },
    "language_info": {
      "name": "python"
    }
  },
  "cells": [
    {
      "cell_type": "markdown",
      "metadata": {
        "id": "view-in-github",
        "colab_type": "text"
      },
      "source": [
        "<a href=\"https://colab.research.google.com/github/Anandkumae/Bookmark_Manager/blob/main/Untitled4.ipynb\" target=\"_parent\"><img src=\"https://colab.research.google.com/assets/colab-badge.svg\" alt=\"Open In Colab\"/></a>"
      ]
    },
    {
      "cell_type": "code",
      "execution_count": null,
      "metadata": {
        "id": "8XRILxaTAOL3"
      },
      "outputs": [],
      "source": []
    },
    {
      "cell_type": "code",
      "source": [
        "from google.colab import drive\n",
        "drive.mount('/content/drive')"
      ],
      "metadata": {
        "colab": {
          "base_uri": "https://localhost:8080/"
        },
        "id": "843F0LvwATXx",
        "outputId": "c95a736f-8fb0-4692-f772-c71ddf33457e"
      },
      "execution_count": null,
      "outputs": [
        {
          "output_type": "stream",
          "name": "stdout",
          "text": [
            "Mounted at /content/drive\n"
          ]
        }
      ]
    },
    {
      "cell_type": "code",
      "source": [
        "import pandas as pd\n"
      ],
      "metadata": {
        "id": "NC90jHlOBnBO"
      },
      "execution_count": null,
      "outputs": []
    },
    {
      "cell_type": "code",
      "source": [
        "data=pd.read_csv('/content/drive/MyDrive/sales data.csv')"
      ],
      "metadata": {
        "id": "GKVPMOgjBwqp"
      },
      "execution_count": null,
      "outputs": []
    },
    {
      "cell_type": "code",
      "source": [
        "x=data.drop([\"TV\",\"Radio\",\"Social\"],axis=1)\n",
        "print(x)\n",
        "y=data.Sales\n",
        "print(y)"
      ],
      "metadata": {
        "colab": {
          "base_uri": "https://localhost:8080/"
        },
        "id": "X9S2QZJFDTF-",
        "outputId": "6a575883-bdc7-4d61-cb25-9092e22f8212"
      },
      "execution_count": null,
      "outputs": [
        {
          "output_type": "stream",
          "name": "stdout",
          "text": [
            "         Sales\n",
            "0    54.732757\n",
            "1    46.677897\n",
            "2   150.177829\n",
            "3   298.246340\n",
            "4    56.594181\n",
            "5   105.889148\n",
            "6   198.679825\n",
            "7   108.733932\n",
            "8   270.189400\n",
            "9    48.280582\n",
            "10  224.961019\n",
            "11  145.543992\n",
            "12  229.632381\n",
            "0      54.732757\n",
            "1      46.677897\n",
            "2     150.177829\n",
            "3     298.246340\n",
            "4      56.594181\n",
            "5     105.889148\n",
            "6     198.679825\n",
            "7     108.733932\n",
            "8     270.189400\n",
            "9      48.280582\n",
            "10    224.961019\n",
            "11    145.543992\n",
            "12    229.632381\n",
            "Name: Sales, dtype: float64\n"
          ]
        }
      ]
    },
    {
      "cell_type": "code",
      "source": [
        "from sklearn.model_selection import train_test_split\n",
        "x_train,x_test,y_train,y_test=train_test_split(x,y,test_size=0.2,random_state=87)\n",
        "print(x_train)\n",
        "print(x_test)\n",
        "print(y_train)\n",
        "print(y_test)"
      ],
      "metadata": {
        "colab": {
          "base_uri": "https://localhost:8080/"
        },
        "id": "_VdH7vX-Ilzv",
        "outputId": "fec7e29e-d3b1-471c-eb78-3a4da9d40ab7"
      },
      "execution_count": null,
      "outputs": [
        {
          "output_type": "stream",
          "name": "stdout",
          "text": [
            "         Sales\n",
            "9    48.280582\n",
            "7   108.733932\n",
            "4    56.594181\n",
            "1    46.677897\n",
            "0    54.732757\n",
            "3   298.246340\n",
            "10  224.961019\n",
            "12  229.632381\n",
            "11  145.543992\n",
            "6   198.679825\n",
            "        Sales\n",
            "8  270.189400\n",
            "5  105.889148\n",
            "2  150.177829\n",
            "9      48.280582\n",
            "7     108.733932\n",
            "4      56.594181\n",
            "1      46.677897\n",
            "0      54.732757\n",
            "3     298.246340\n",
            "10    224.961019\n",
            "12    229.632381\n",
            "11    145.543992\n",
            "6     198.679825\n",
            "Name: Sales, dtype: float64\n",
            "8    270.189400\n",
            "5    105.889148\n",
            "2    150.177829\n",
            "Name: Sales, dtype: float64\n"
          ]
        }
      ]
    },
    {
      "cell_type": "code",
      "source": [
        "from sklearn.linear_model import LinearRegression\n",
        "model=LinearRegression()\n",
        "model.fit(x_train,y_train)\n",
        "print(\"slopes are\",model.coef_)\n",
        "print(\"intercept is\",model.intercept_)"
      ],
      "metadata": {
        "colab": {
          "base_uri": "https://localhost:8080/"
        },
        "id": "2jToJdKSI7y3",
        "outputId": "c46c94e1-00f7-463e-cdff-6865e6e4dfe3"
      },
      "execution_count": null,
      "outputs": [
        {
          "output_type": "stream",
          "name": "stdout",
          "text": [
            "slopes are [1.]\n",
            "intercept is 0.0\n"
          ]
        }
      ]
    },
    {
      "cell_type": "code",
      "source": [
        "y_test_pred=model.predict(x_test)\n",
        "print(y_test_pred)"
      ],
      "metadata": {
        "colab": {
          "base_uri": "https://localhost:8080/"
        },
        "id": "Gt6OK6cBJKeS",
        "outputId": "4015f0bf-efad-405c-b6a3-4fc4f99fa000"
      },
      "execution_count": null,
      "outputs": [
        {
          "output_type": "stream",
          "name": "stdout",
          "text": [
            "[270.1894    105.8891476 150.1778288]\n"
          ]
        }
      ]
    },
    {
      "cell_type": "code",
      "source": [
        "import numpy as np\n",
        "from sklearn.metrics import mean_absolute_error\n",
        "mse=mean_absolute_error(y_test,y_test_pred)\n",
        "rmse=np.sqrt(mse)\n",
        "print(rmse)"
      ],
      "metadata": {
        "colab": {
          "base_uri": "https://localhost:8080/"
        },
        "id": "R5z6RwzZJUOl",
        "outputId": "7f8bc2b8-a3a4-40bc-d211-754e103142be"
      },
      "execution_count": null,
      "outputs": [
        {
          "output_type": "stream",
          "name": "stdout",
          "text": [
            "0.0\n"
          ]
        }
      ]
    }
  ]
}